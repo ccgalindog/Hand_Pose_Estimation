{
 "cells": [
  {
   "cell_type": "code",
   "execution_count": 1,
   "id": "633a7105-0a1a-40f2-80e2-4656a3335238",
   "metadata": {},
   "outputs": [],
   "source": [
    "import tensorflow as tf\n",
    "import PIL.Image\n",
    "import json\n",
    "import numpy as np\n",
    "import cv2\n",
    "from matplotlib import pyplot as plt\n",
    "from tensorflow.keras.layers import Input, Conv2D, Dropout, Dense, Flatten, MaxPooling2D, BatchNormalization, UpSampling2D, concatenate\n",
    "from tensorflow.keras.models import Model\n",
    "from tensorflow.keras.utils import plot_model\n",
    "from tensorflow.keras.metrics import MeanSquaredError\n",
    "from tensorflow.keras.losses import Loss\n",
    "from tensorflow.keras.preprocessing.image import ImageDataGenerator\n",
    "from tensorflow_addons.losses import GIoULoss\n",
    "import os\n",
    "from tqdm import tqdm\n",
    "import skimage\n",
    "import skimage.io"
   ]
  },
  {
   "cell_type": "code",
   "execution_count": 44,
   "id": "910ace9c-df0b-4268-a279-fef26f249a7c",
   "metadata": {},
   "outputs": [],
   "source": [
    "def generate_coordinates( id_img, k_js, xyz_js ):\n",
    "    coords_1 = np.matmul( k_js[ id_img ], xyz_js.T).T\n",
    "    uv_1 = coords_1[:, :2]/coords_1[:, -1:]\n",
    "    uv_1 = np.round(uv_1).astype('int')\n",
    "    return uv_1\n",
    "\n",
    "def generate_labeled_image( im_1, uv_1 ):\n",
    "    connections = [[0,1], [1,2], [2,3], [3,4], \n",
    "                   [0,5], [5,6], [6,7], [7,8], \n",
    "                   [0,9], [9,10],[10,11], [11,12],\n",
    "                   [0,13],[13,14], [14,15], [15,16], \n",
    "                   [0,17],[17,18], [18,19], [19,20]]\n",
    "    \n",
    "    colors_vertex = [ (0,0,0), (0,200,100), (50,50,250), (200,0,0), (255,255,50), (0,100,100), (100,170,255),\n",
    "                      (255,50,150), (130,130,60),(150,250,50), (10,130,200), (190,0,70),  (220,180, 0), (20,100,40), \n",
    "                      (60,10,150), (140,0,40), (240,160,0), (0,200,160),  (90,100,170), (150,0,70),(220,200,70)]\n",
    "    \n",
    "    for c in connections:\n",
    "        im_1 = cv2.line( im_1, uv_1[c[0]], uv_1[c[1]], (255,255,255), 2)\n",
    "    for p_i, point in enumerate(uv_1):\n",
    "        im_1 = cv2.circle( im_1, point, 2, colors_vertex[ p_i ], -1)\n",
    "    return im_1\n",
    "\n",
    "def load_training_data( image_list, xyz_js, k_js, images_path, num_max_samples, image_size ):\n",
    "    X_images = []\n",
    "    Y_coords = []\n",
    "    Ids_samples = [] \n",
    "    for img_name in image_list[:num_max_samples]:\n",
    "        id_img = int(img_name.split('.')[0])\n",
    "        if id_img < len(xyz_js):\n",
    "            try:\n",
    "                ###im_1 = cv2.resize( cv2.imread( images_path + img_name ), image_size )\n",
    "                im_1 = cv2.imread( images_path + img_name )\n",
    "                ###X_images.append( im_1 )\n",
    "                Ids_samples.append( id_img )\n",
    "                pxy = generate_coordinates( id_img, k_js, xyz_js[ id_img ] )\n",
    "\n",
    "                y_arr = np.zeros( ( im_1.shape[0], im_1.shape[1], 21 ) )\n",
    "                for i in range( len(pxy) ):\n",
    "                    y_target_map = np.zeros( (im_1.shape[0], im_1.shape[1]) )\n",
    "                    y_target_map[ pxy[i, 1], pxy[i, 0] ] = 1\n",
    "                    y_target_map = cv2.GaussianBlur( y_target_map, (9,9), sigmaX = 2, sigmaY = 2 )\n",
    "                    y_target_map[ y_target_map > 0] = 1\n",
    "                    #y_target_map = y_target_map/y_target_map.max()\n",
    "\n",
    "                    y_arr[ :,:,i ] = y_target_map\n",
    "                    \n",
    "                im_1 = cv2.resize( im_1, image_size )\n",
    "                y_arr = cv2.resize( y_arr, image_size )\n",
    "                \n",
    "                Y_coords.append( y_arr )\n",
    "                X_images.append( im_1 )\n",
    "                \n",
    "            except Exception as e:\n",
    "                print(e)\n",
    "\n",
    "    X_images = np.array( X_images )/255\n",
    "    Y_coords = np.array( Y_coords  )\n",
    "    return X_images, Y_coords, Ids_samples"
   ]
  },
  {
   "cell_type": "code",
   "execution_count": 40,
   "id": "501042ad-9192-4d1b-9761-189a3a2801ed",
   "metadata": {},
   "outputs": [],
   "source": [
    "def hand_pose_model( input_shape, list_filter_size ):\n",
    "    \"\"\"\n",
    "    Model that reduces shape with filters and then upsamples.\n",
    "    \"\"\"\n",
    "    reduction_blocks = len( list_filter_size )\n",
    "    input_x = Input( shape = input_shape, name = 'input_layer' )\n",
    "    x = BatchNormalization( name = 'batchnnorm_input' )( input_x )\n",
    "    inner_layer = 0\n",
    "    \n",
    "    # Reduction blocks:\n",
    "    for redblock_i in range( reduction_blocks ):\n",
    "        x = Dropout( 0.7, name = f'rb{redblock_i}_dropout_{inner_layer}' )( x )\n",
    "        x = Conv2D( filters = list_filter_size[ redblock_i ], kernel_size = 3, padding = 'same',\n",
    "                    strides = 1, activation = 'relu', name = f'rb{redblock_i}_conv_{inner_layer}' )( x )\n",
    "        inner_layer = inner_layer + 1\n",
    "        x = BatchNormalization( name = f'rb{redblock_i}_batchnnorm_{redblock_i}' )( x )\n",
    "        x = Dropout( 0.7, name = f'rb{redblock_i}_dropout_{inner_layer}' )( x )\n",
    "        x = Conv2D( filters = list_filter_size[ redblock_i ], kernel_size = 3, padding = 'same',\n",
    "                    strides = 1, activation = 'relu', name = f'rb{redblock_i}_conv_{inner_layer}' )( x )\n",
    "        if ( redblock_i < reduction_blocks-1 ):\n",
    "            x = MaxPooling2D( pool_size = (2, 2), name = f'rb{redblock_i}_maxpool_{redblock_i}' )( x )\n",
    "        inner_layer = inner_layer + 1\n",
    "        \n",
    "    \n",
    "    list_filter_size = list_filter_size[::-1]\n",
    "    \n",
    "    x = UpSampling2D( size = (2, 2), name = f'upsample_{0}' )( x )\n",
    "    \n",
    "    # Expansion blocks:\n",
    "    for redblock_i in range( reduction_blocks-1 ):\n",
    "        x = Dropout( 0.7, name = f'ub{redblock_i}_dropout_{inner_layer}' )( x )\n",
    "        x = Conv2D( filters = list_filter_size[ redblock_i ], kernel_size = 3, padding = 'same',\n",
    "                    strides = 1, activation = 'relu', name = f'ub{redblock_i}_conv_{inner_layer}' )( x )\n",
    "        inner_layer = inner_layer + 1\n",
    "        x = BatchNormalization( name = f'ub{redblock_i}_batchnnorm_{redblock_i+reduction_blocks}' )( x )\n",
    "        x = Dropout( 0.7, name = f'ub{redblock_i}_dropout_{inner_layer}' )( x )\n",
    "        x = Conv2D( filters = list_filter_size[ redblock_i ], kernel_size = 3, padding = 'same',\n",
    "                    strides = 1, activation = 'relu', name = f'ub{redblock_i}_conv_{inner_layer}' )( x )\n",
    "        if ( redblock_i < reduction_blocks-2 ):\n",
    "            x = UpSampling2D( size = (2, 2), name = f'ub{redblock_i}_upsample_{redblock_i+reduction_blocks}' )( x )\n",
    "        inner_layer = inner_layer + 1\n",
    "        \n",
    "    # Output layer:\n",
    "    y_hat = Conv2D( filters = 21, kernel_size = 3, padding = 'same', strides = 1,\n",
    "                    activation = 'sigmoid', name = 'conv_out' )( x )\n",
    "    \n",
    "    \n",
    "    model = Model( inputs = input_x, outputs = y_hat, name = 'hand_pose_model' )\n",
    "    \n",
    "    return model       \n",
    "\n",
    "def hand_pose_model( input_shape, list_filter_size ):\n",
    "    \"\"\"\n",
    "    U-Net (encoder-decoder) Model that reduces shape with filters and then upsamples with shortcuts.\n",
    "    \"\"\"\n",
    "    reduction_blocks = len( list_filter_size )\n",
    "    input_x = Input( shape = input_shape, name = 'input_layer' )\n",
    "    x = BatchNormalization( name = 'batchnnorm_input' )( input_x )\n",
    "    inner_layer = 0\n",
    "    \n",
    "    shortcut_layers = [] \n",
    "    \n",
    "    # Reduction blocks:\n",
    "    for redblock_i in range( reduction_blocks ):\n",
    "        x = Dropout( 0.7, name = f'rb{redblock_i}_dropout_{inner_layer}' )( x )\n",
    "        x = Conv2D( filters = list_filter_size[ redblock_i ], kernel_size = 3, padding = 'same',\n",
    "                    strides = 1, activation = 'relu', name = f'rb{redblock_i}_conv_{inner_layer}' )( x )\n",
    "        inner_layer = inner_layer + 1\n",
    "        x = BatchNormalization( name = f'rb{redblock_i}_batchnnorm_{redblock_i}' )( x )\n",
    "        x = Dropout( 0.7, name = f'rb{redblock_i}_dropout_{inner_layer}' )( x )\n",
    "        x = Conv2D( filters = list_filter_size[ redblock_i ], kernel_size = 3, padding = 'same',\n",
    "                    strides = 1, activation = 'relu', name = f'rb{redblock_i}_conv_{inner_layer}' )( x )\n",
    "        if ( redblock_i < reduction_blocks-1 ):\n",
    "            x = MaxPooling2D( pool_size = (2, 2), name = f'rb{redblock_i}_maxpool_{redblock_i}' )( x )\n",
    "        inner_layer = inner_layer + 1\n",
    "        shortcut_layers.append( x )\n",
    "        \n",
    "    \n",
    "    list_filter_size = list_filter_size[::-1]\n",
    "    shortcut_layers = shortcut_layers[::-1]\n",
    "    \n",
    "    \n",
    "    x = UpSampling2D( size = (2, 2), name = f'upsample_{0}' )( x )\n",
    "    \n",
    "    \n",
    "    # Expansion blocks:\n",
    "    for redblock_i in range(  reduction_blocks-2 ):\n",
    "        \n",
    "        x = concatenate( [ shortcut_layers[redblock_i+2], x ], axis = 3 )\n",
    "        \n",
    "        x = Dropout( 0.7, name = f'ub{redblock_i}_dropout_{inner_layer}' )( x )\n",
    "        x = Conv2D( filters = list_filter_size[ redblock_i ], kernel_size = 3, padding = 'same',\n",
    "                    strides = 1, activation = 'relu', name = f'ub{redblock_i}_conv_{inner_layer}' )( x )\n",
    "        inner_layer = inner_layer + 1\n",
    "        x = BatchNormalization( name = f'ub{redblock_i}_batchnnorm_{redblock_i+reduction_blocks}' )( x )\n",
    "        x = Dropout( 0.7, name = f'ub{redblock_i}_dropout_{inner_layer}' )( x )\n",
    "        x = Conv2D( filters = list_filter_size[ redblock_i ], kernel_size = 3, padding = 'same',\n",
    "                    strides = 1, activation = 'relu', name = f'ub{redblock_i}_conv_{inner_layer}' )( x )\n",
    "        if ( redblock_i < reduction_blocks-2 ):\n",
    "            x = UpSampling2D( size = (2, 2), name = f'ub{redblock_i}_upsample_{redblock_i+reduction_blocks}' )( x )\n",
    "        inner_layer = inner_layer + 1\n",
    "        \n",
    "        \n",
    "        \n",
    "    # Output layer:\n",
    "    y_hat = Conv2D( filters = 21, kernel_size = 3, padding = 'same', strides = 1,\n",
    "                    activation = 'sigmoid', name = 'conv_out' )( x )\n",
    "    \n",
    "    \n",
    "    model = Model( inputs = input_x, outputs = y_hat, name = 'hand_pose_model' )\n",
    "    \n",
    "    return model   \n",
    "\n",
    "\n",
    "class IOULoss( Loss ):\n",
    "    def call( self, y_true, y_pred ):\n",
    "        intersect_y = tf.reduce_sum( tf.multiply(y_true, y_pred) )\n",
    "        union_y = tf.reduce_sum( tf.square(y_true) + tf.square(y_pred) - intersect_y )\n",
    "        return intersect_y/union_y\n"
   ]
  },
  {
   "cell_type": "code",
   "execution_count": 37,
   "id": "6c74f496-cd54-4dd7-8206-65543dc594cc",
   "metadata": {},
   "outputs": [],
   "source": [
    "#mano_js = json.load( open('archive-3/training_mano.json') )\n",
    "#verts_js = json.load( open('archive-3/training_verts.json') )\n",
    "k_js = np.array( json.load( open('archive-3/training_K.json') ) )\n",
    "scale_js = json.load( open('archive-3/training_scale.json') )\n",
    "xyz_js = np.array( json.load( open('archive-3/training_xyz.json') ) )\n",
    "train_images_path = \"archive-3/training/rgb/\"\n",
    "train_images_list = os.listdir( train_images_path )"
   ]
  },
  {
   "cell_type": "code",
   "execution_count": null,
   "id": "1335137e-7ed4-40b3-b0e2-df2819529870",
   "metadata": {},
   "outputs": [
    {
     "name": "stdout",
     "output_type": "stream",
     "text": [
      "index 227 is out of bounds for axis 0 with size 224\n"
     ]
    }
   ],
   "source": [
    "num_max_samples = 10000\n",
    "image_size = (128,128)###(224, 224)\n",
    "x_train, y_train, ids_train = load_training_data( train_images_list, xyz_js, k_js, train_images_path,\n",
    "                                      num_max_samples, image_size )"
   ]
  },
  {
   "cell_type": "code",
   "execution_count": 196,
   "id": "7a23e277-d2a9-479b-ace6-b00916dc74d1",
   "metadata": {},
   "outputs": [
    {
     "data": {
      "text/plain": [
       "((2510, 128, 128, 3), (2510, 128, 128, 21))"
      ]
     },
     "execution_count": 196,
     "metadata": {},
     "output_type": "execute_result"
    }
   ],
   "source": [
    "x_train.shape, y_train.shape"
   ]
  },
  {
   "cell_type": "code",
   "execution_count": 238,
   "id": "3fa82fac-703d-4298-985b-e58f57aad1cb",
   "metadata": {},
   "outputs": [],
   "source": [
    "input_shape = (image_size[0], image_size[1], 3) #(224, 224, 3)\n",
    "list_filter_sizes = [8, 16, 32, 64, 128]##[16, 32, 64, 128]\n",
    "cnn_model = hand_pose_model( input_shape, list_filter_sizes )"
   ]
  },
  {
   "cell_type": "code",
   "execution_count": 239,
   "id": "f5f82d37-2e89-4114-a76c-78c77b26c4f0",
   "metadata": {},
   "outputs": [
    {
     "name": "stdout",
     "output_type": "stream",
     "text": [
      "Model: \"hand_pose_model\"\n",
      "__________________________________________________________________________________________________\n",
      " Layer (type)                   Output Shape         Param #     Connected to                     \n",
      "==================================================================================================\n",
      " input_layer (InputLayer)       [(None, 128, 128, 3  0           []                               \n",
      "                                )]                                                                \n",
      "                                                                                                  \n",
      " batchnnorm_input (BatchNormali  (None, 128, 128, 3)  12         ['input_layer[0][0]']            \n",
      " zation)                                                                                          \n",
      "                                                                                                  \n",
      " rb0_dropout_0 (Dropout)        (None, 128, 128, 3)  0           ['batchnnorm_input[0][0]']       \n",
      "                                                                                                  \n",
      " rb0_conv_0 (Conv2D)            (None, 128, 128, 8)  224         ['rb0_dropout_0[0][0]']          \n",
      "                                                                                                  \n",
      " rb0_batchnnorm_0 (BatchNormali  (None, 128, 128, 8)  32         ['rb0_conv_0[0][0]']             \n",
      " zation)                                                                                          \n",
      "                                                                                                  \n",
      " rb0_dropout_1 (Dropout)        (None, 128, 128, 8)  0           ['rb0_batchnnorm_0[0][0]']       \n",
      "                                                                                                  \n",
      " rb0_conv_1 (Conv2D)            (None, 128, 128, 8)  584         ['rb0_dropout_1[0][0]']          \n",
      "                                                                                                  \n",
      " rb0_maxpool_0 (MaxPooling2D)   (None, 64, 64, 8)    0           ['rb0_conv_1[0][0]']             \n",
      "                                                                                                  \n",
      " rb1_dropout_2 (Dropout)        (None, 64, 64, 8)    0           ['rb0_maxpool_0[0][0]']          \n",
      "                                                                                                  \n",
      " rb1_conv_2 (Conv2D)            (None, 64, 64, 16)   1168        ['rb1_dropout_2[0][0]']          \n",
      "                                                                                                  \n",
      " rb1_batchnnorm_1 (BatchNormali  (None, 64, 64, 16)  64          ['rb1_conv_2[0][0]']             \n",
      " zation)                                                                                          \n",
      "                                                                                                  \n",
      " rb1_dropout_3 (Dropout)        (None, 64, 64, 16)   0           ['rb1_batchnnorm_1[0][0]']       \n",
      "                                                                                                  \n",
      " rb1_conv_3 (Conv2D)            (None, 64, 64, 16)   2320        ['rb1_dropout_3[0][0]']          \n",
      "                                                                                                  \n",
      " rb1_maxpool_1 (MaxPooling2D)   (None, 32, 32, 16)   0           ['rb1_conv_3[0][0]']             \n",
      "                                                                                                  \n",
      " rb2_dropout_4 (Dropout)        (None, 32, 32, 16)   0           ['rb1_maxpool_1[0][0]']          \n",
      "                                                                                                  \n",
      " rb2_conv_4 (Conv2D)            (None, 32, 32, 32)   4640        ['rb2_dropout_4[0][0]']          \n",
      "                                                                                                  \n",
      " rb2_batchnnorm_2 (BatchNormali  (None, 32, 32, 32)  128         ['rb2_conv_4[0][0]']             \n",
      " zation)                                                                                          \n",
      "                                                                                                  \n",
      " rb2_dropout_5 (Dropout)        (None, 32, 32, 32)   0           ['rb2_batchnnorm_2[0][0]']       \n",
      "                                                                                                  \n",
      " rb2_conv_5 (Conv2D)            (None, 32, 32, 32)   9248        ['rb2_dropout_5[0][0]']          \n",
      "                                                                                                  \n",
      " rb2_maxpool_2 (MaxPooling2D)   (None, 16, 16, 32)   0           ['rb2_conv_5[0][0]']             \n",
      "                                                                                                  \n",
      " rb3_dropout_6 (Dropout)        (None, 16, 16, 32)   0           ['rb2_maxpool_2[0][0]']          \n",
      "                                                                                                  \n",
      " rb3_conv_6 (Conv2D)            (None, 16, 16, 64)   18496       ['rb3_dropout_6[0][0]']          \n",
      "                                                                                                  \n",
      " rb3_batchnnorm_3 (BatchNormali  (None, 16, 16, 64)  256         ['rb3_conv_6[0][0]']             \n",
      " zation)                                                                                          \n",
      "                                                                                                  \n",
      " rb3_dropout_7 (Dropout)        (None, 16, 16, 64)   0           ['rb3_batchnnorm_3[0][0]']       \n",
      "                                                                                                  \n",
      " rb3_conv_7 (Conv2D)            (None, 16, 16, 64)   36928       ['rb3_dropout_7[0][0]']          \n",
      "                                                                                                  \n",
      " rb3_maxpool_3 (MaxPooling2D)   (None, 8, 8, 64)     0           ['rb3_conv_7[0][0]']             \n",
      "                                                                                                  \n",
      " rb4_dropout_8 (Dropout)        (None, 8, 8, 64)     0           ['rb3_maxpool_3[0][0]']          \n",
      "                                                                                                  \n",
      " rb4_conv_8 (Conv2D)            (None, 8, 8, 128)    73856       ['rb4_dropout_8[0][0]']          \n",
      "                                                                                                  \n",
      " rb4_batchnnorm_4 (BatchNormali  (None, 8, 8, 128)   512         ['rb4_conv_8[0][0]']             \n",
      " zation)                                                                                          \n",
      "                                                                                                  \n",
      " rb4_dropout_9 (Dropout)        (None, 8, 8, 128)    0           ['rb4_batchnnorm_4[0][0]']       \n",
      "                                                                                                  \n",
      " rb4_conv_9 (Conv2D)            (None, 8, 8, 128)    147584      ['rb4_dropout_9[0][0]']          \n",
      "                                                                                                  \n",
      " upsample_0 (UpSampling2D)      (None, 16, 16, 128)  0           ['rb4_conv_9[0][0]']             \n",
      "                                                                                                  \n",
      " concatenate_7 (Concatenate)    (None, 16, 16, 160)  0           ['rb2_maxpool_2[0][0]',          \n",
      "                                                                  'upsample_0[0][0]']             \n",
      "                                                                                                  \n",
      " ub0_dropout_10 (Dropout)       (None, 16, 16, 160)  0           ['concatenate_7[0][0]']          \n",
      "                                                                                                  \n",
      " ub0_conv_10 (Conv2D)           (None, 16, 16, 128)  184448      ['ub0_dropout_10[0][0]']         \n",
      "                                                                                                  \n",
      " ub0_batchnnorm_5 (BatchNormali  (None, 16, 16, 128)  512        ['ub0_conv_10[0][0]']            \n",
      " zation)                                                                                          \n",
      "                                                                                                  \n",
      " ub0_dropout_11 (Dropout)       (None, 16, 16, 128)  0           ['ub0_batchnnorm_5[0][0]']       \n",
      "                                                                                                  \n",
      " ub0_conv_11 (Conv2D)           (None, 16, 16, 128)  147584      ['ub0_dropout_11[0][0]']         \n",
      "                                                                                                  \n",
      " ub0_upsample_5 (UpSampling2D)  (None, 32, 32, 128)  0           ['ub0_conv_11[0][0]']            \n",
      "                                                                                                  \n",
      " concatenate_8 (Concatenate)    (None, 32, 32, 144)  0           ['rb1_maxpool_1[0][0]',          \n",
      "                                                                  'ub0_upsample_5[0][0]']         \n",
      "                                                                                                  \n",
      " ub1_dropout_12 (Dropout)       (None, 32, 32, 144)  0           ['concatenate_8[0][0]']          \n",
      "                                                                                                  \n",
      " ub1_conv_12 (Conv2D)           (None, 32, 32, 64)   83008       ['ub1_dropout_12[0][0]']         \n",
      "                                                                                                  \n",
      " ub1_batchnnorm_6 (BatchNormali  (None, 32, 32, 64)  256         ['ub1_conv_12[0][0]']            \n",
      " zation)                                                                                          \n",
      "                                                                                                  \n",
      " ub1_dropout_13 (Dropout)       (None, 32, 32, 64)   0           ['ub1_batchnnorm_6[0][0]']       \n",
      "                                                                                                  \n",
      " ub1_conv_13 (Conv2D)           (None, 32, 32, 64)   36928       ['ub1_dropout_13[0][0]']         \n",
      "                                                                                                  \n",
      " ub1_upsample_6 (UpSampling2D)  (None, 64, 64, 64)   0           ['ub1_conv_13[0][0]']            \n",
      "                                                                                                  \n",
      " concatenate_9 (Concatenate)    (None, 64, 64, 72)   0           ['rb0_maxpool_0[0][0]',          \n",
      "                                                                  'ub1_upsample_6[0][0]']         \n",
      "                                                                                                  \n",
      " ub2_dropout_14 (Dropout)       (None, 64, 64, 72)   0           ['concatenate_9[0][0]']          \n",
      "                                                                                                  \n",
      " ub2_conv_14 (Conv2D)           (None, 64, 64, 32)   20768       ['ub2_dropout_14[0][0]']         \n",
      "                                                                                                  \n",
      " ub2_batchnnorm_7 (BatchNormali  (None, 64, 64, 32)  128         ['ub2_conv_14[0][0]']            \n",
      " zation)                                                                                          \n",
      "                                                                                                  \n",
      " ub2_dropout_15 (Dropout)       (None, 64, 64, 32)   0           ['ub2_batchnnorm_7[0][0]']       \n",
      "                                                                                                  \n",
      " ub2_conv_15 (Conv2D)           (None, 64, 64, 32)   9248        ['ub2_dropout_15[0][0]']         \n",
      "                                                                                                  \n",
      " ub2_upsample_7 (UpSampling2D)  (None, 128, 128, 32  0           ['ub2_conv_15[0][0]']            \n",
      "                                )                                                                 \n",
      "                                                                                                  \n",
      " conv_out (Conv2D)              (None, 128, 128, 21  6069        ['ub2_upsample_7[0][0]']         \n",
      "                                )                                                                 \n",
      "                                                                                                  \n",
      "==================================================================================================\n",
      "Total params: 785,001\n",
      "Trainable params: 784,051\n",
      "Non-trainable params: 950\n",
      "__________________________________________________________________________________________________\n"
     ]
    }
   ],
   "source": [
    "cnn_model.summary()"
   ]
  },
  {
   "cell_type": "code",
   "execution_count": 240,
   "id": "280e4973-da2c-4dca-ab20-ffc8f5240b10",
   "metadata": {},
   "outputs": [
    {
     "name": "stdout",
     "output_type": "stream",
     "text": [
      "You must install pydot (`pip install pydot`) and install graphviz (see instructions at https://graphviz.gitlab.io/download/) for plot_model/model_to_dot to work.\n"
     ]
    }
   ],
   "source": [
    "plot_model( cnn_model, show_shapes = True )"
   ]
  },
  {
   "cell_type": "code",
   "execution_count": 241,
   "id": "abd20473-9075-41a4-8098-fa22c4007b11",
   "metadata": {},
   "outputs": [],
   "source": [
    "cnn_model.compile( optimizer = tf.keras.optimizers.Adam(0.001),\n",
    "                   loss = 'mean_squared_error', metrics = 'mean_absolute_error' )\n",
    "#cnn_model.compile( optimizer = tf.keras.optimizers.Adam(0.0001), loss = IOULoss() )"
   ]
  },
  {
   "cell_type": "code",
   "execution_count": 201,
   "id": "adf61651-870c-4077-8fb9-630eb16397bc",
   "metadata": {
    "tags": []
   },
   "outputs": [
    {
     "name": "stdout",
     "output_type": "stream",
     "text": [
      "Epoch 1/100\n"
     ]
    },
    {
     "name": "stderr",
     "output_type": "stream",
     "text": [
      "2022-08-28 09:26:05.879134: I tensorflow/core/grappler/optimizers/custom_graph_optimizer_registry.cc:113] Plugin optimizer for device_type GPU is enabled.\n"
     ]
    },
    {
     "name": "stdout",
     "output_type": "stream",
     "text": [
      "28/28 [==============================] - ETA: 0s - loss: 0.1399 - mean_absolute_error: 0.3152"
     ]
    },
    {
     "name": "stderr",
     "output_type": "stream",
     "text": [
      "2022-08-28 09:26:16.326767: I tensorflow/core/grappler/optimizers/custom_graph_optimizer_registry.cc:113] Plugin optimizer for device_type GPU is enabled.\n"
     ]
    },
    {
     "name": "stdout",
     "output_type": "stream",
     "text": [
      "28/28 [==============================] - 13s 418ms/step - loss: 0.1399 - mean_absolute_error: 0.3152 - val_loss: 0.0392 - val_mean_absolute_error: 0.1796\n",
      "Epoch 2/100\n",
      "28/28 [==============================] - 9s 325ms/step - loss: 0.0143 - mean_absolute_error: 0.0682 - val_loss: 0.0031 - val_mean_absolute_error: 0.0317\n",
      "Epoch 3/100\n",
      "28/28 [==============================] - 9s 322ms/step - loss: 0.0041 - mean_absolute_error: 0.0293 - val_loss: 0.0019 - val_mean_absolute_error: 0.0125\n",
      "Epoch 4/100\n",
      "28/28 [==============================] - 9s 322ms/step - loss: 0.0028 - mean_absolute_error: 0.0196 - val_loss: 0.0017 - val_mean_absolute_error: 0.0065\n",
      "Epoch 5/100\n",
      "28/28 [==============================] - 9s 325ms/step - loss: 0.0023 - mean_absolute_error: 0.0146 - val_loss: 0.0016 - val_mean_absolute_error: 0.0044\n",
      "Epoch 6/100\n",
      "28/28 [==============================] - 9s 325ms/step - loss: 0.0021 - mean_absolute_error: 0.0114 - val_loss: 0.0015 - val_mean_absolute_error: 0.0034\n",
      "Epoch 7/100\n",
      "28/28 [==============================] - 9s 324ms/step - loss: 0.0019 - mean_absolute_error: 0.0093 - val_loss: 0.0015 - val_mean_absolute_error: 0.0029\n",
      "Epoch 8/100\n",
      "28/28 [==============================] - 9s 325ms/step - loss: 0.0018 - mean_absolute_error: 0.0078 - val_loss: 0.0015 - val_mean_absolute_error: 0.0026\n",
      "Epoch 9/100\n",
      "28/28 [==============================] - 9s 326ms/step - loss: 0.0017 - mean_absolute_error: 0.0067 - val_loss: 0.0015 - val_mean_absolute_error: 0.0024\n",
      "Epoch 10/100\n",
      "28/28 [==============================] - 9s 328ms/step - loss: 0.0017 - mean_absolute_error: 0.0059 - val_loss: 0.0015 - val_mean_absolute_error: 0.0022\n",
      "Epoch 11/100\n",
      "28/28 [==============================] - 10s 343ms/step - loss: 0.0016 - mean_absolute_error: 0.0053 - val_loss: 0.0015 - val_mean_absolute_error: 0.0022\n",
      "Epoch 12/100\n",
      "28/28 [==============================] - 9s 339ms/step - loss: 0.0016 - mean_absolute_error: 0.0048 - val_loss: 0.0015 - val_mean_absolute_error: 0.0021\n",
      "Epoch 13/100\n",
      "28/28 [==============================] - 9s 336ms/step - loss: 0.0016 - mean_absolute_error: 0.0044 - val_loss: 0.0015 - val_mean_absolute_error: 0.0021\n",
      "Epoch 14/100\n",
      "28/28 [==============================] - 9s 327ms/step - loss: 0.0016 - mean_absolute_error: 0.0041 - val_loss: 0.0015 - val_mean_absolute_error: 0.0020\n",
      "Epoch 15/100\n",
      "28/28 [==============================] - 9s 327ms/step - loss: 0.0016 - mean_absolute_error: 0.0039 - val_loss: 0.0015 - val_mean_absolute_error: 0.0020\n",
      "Epoch 16/100\n",
      "28/28 [==============================] - 9s 325ms/step - loss: 0.0016 - mean_absolute_error: 0.0037 - val_loss: 0.0015 - val_mean_absolute_error: 0.0020\n",
      "Epoch 17/100\n",
      "28/28 [==============================] - 9s 325ms/step - loss: 0.0016 - mean_absolute_error: 0.0035 - val_loss: 0.0015 - val_mean_absolute_error: 0.0019\n",
      "Epoch 18/100\n",
      "28/28 [==============================] - 9s 328ms/step - loss: 0.0016 - mean_absolute_error: 0.0033 - val_loss: 0.0015 - val_mean_absolute_error: 0.0019\n",
      "Epoch 19/100\n",
      "28/28 [==============================] - 9s 325ms/step - loss: 0.0015 - mean_absolute_error: 0.0032 - val_loss: 0.0015 - val_mean_absolute_error: 0.0019\n",
      "Epoch 20/100\n",
      "28/28 [==============================] - 9s 329ms/step - loss: 0.0015 - mean_absolute_error: 0.0031 - val_loss: 0.0015 - val_mean_absolute_error: 0.0019\n",
      "Epoch 21/100\n",
      "28/28 [==============================] - 9s 328ms/step - loss: 0.0015 - mean_absolute_error: 0.0030 - val_loss: 0.0015 - val_mean_absolute_error: 0.0019\n",
      "Epoch 22/100\n",
      "28/28 [==============================] - 9s 326ms/step - loss: 0.0015 - mean_absolute_error: 0.0029 - val_loss: 0.0015 - val_mean_absolute_error: 0.0019\n",
      "Epoch 23/100\n",
      "28/28 [==============================] - 9s 326ms/step - loss: 0.0015 - mean_absolute_error: 0.0028 - val_loss: 0.0015 - val_mean_absolute_error: 0.0019\n",
      "Epoch 24/100\n",
      "28/28 [==============================] - 9s 326ms/step - loss: 0.0015 - mean_absolute_error: 0.0028 - val_loss: 0.0015 - val_mean_absolute_error: 0.0019\n",
      "Epoch 25/100\n",
      "28/28 [==============================] - 9s 329ms/step - loss: 0.0015 - mean_absolute_error: 0.0027 - val_loss: 0.0015 - val_mean_absolute_error: 0.0018\n",
      "Epoch 26/100\n",
      "28/28 [==============================] - 9s 326ms/step - loss: 0.0015 - mean_absolute_error: 0.0026 - val_loss: 0.0015 - val_mean_absolute_error: 0.0018\n",
      "Epoch 27/100\n",
      "28/28 [==============================] - 9s 325ms/step - loss: 0.0015 - mean_absolute_error: 0.0026 - val_loss: 0.0015 - val_mean_absolute_error: 0.0018\n",
      "Epoch 28/100\n",
      "28/28 [==============================] - 9s 328ms/step - loss: 0.0015 - mean_absolute_error: 0.0025 - val_loss: 0.0015 - val_mean_absolute_error: 0.0018\n",
      "Epoch 29/100\n",
      "28/28 [==============================] - 9s 327ms/step - loss: 0.0015 - mean_absolute_error: 0.0025 - val_loss: 0.0015 - val_mean_absolute_error: 0.0018\n",
      "Epoch 30/100\n",
      "28/28 [==============================] - 9s 330ms/step - loss: 0.0015 - mean_absolute_error: 0.0025 - val_loss: 0.0015 - val_mean_absolute_error: 0.0018\n",
      "Epoch 31/100\n",
      "28/28 [==============================] - 9s 336ms/step - loss: 0.0015 - mean_absolute_error: 0.0024 - val_loss: 0.0015 - val_mean_absolute_error: 0.0018\n",
      "Epoch 32/100\n",
      "28/28 [==============================] - 10s 340ms/step - loss: 0.0015 - mean_absolute_error: 0.0024 - val_loss: 0.0015 - val_mean_absolute_error: 0.0018\n",
      "Epoch 33/100\n",
      "28/28 [==============================] - 9s 330ms/step - loss: 0.0015 - mean_absolute_error: 0.0023 - val_loss: 0.0015 - val_mean_absolute_error: 0.0018\n",
      "Epoch 34/100\n",
      "28/28 [==============================] - 9s 331ms/step - loss: 0.0015 - mean_absolute_error: 0.0023 - val_loss: 0.0015 - val_mean_absolute_error: 0.0018\n",
      "Epoch 35/100\n",
      "28/28 [==============================] - 9s 329ms/step - loss: 0.0015 - mean_absolute_error: 0.0023 - val_loss: 0.0015 - val_mean_absolute_error: 0.0018\n",
      "Epoch 36/100\n",
      "28/28 [==============================] - 9s 337ms/step - loss: 0.0015 - mean_absolute_error: 0.0023 - val_loss: 0.0015 - val_mean_absolute_error: 0.0018\n",
      "Epoch 37/100\n",
      "28/28 [==============================] - 9s 332ms/step - loss: 0.0015 - mean_absolute_error: 0.0022 - val_loss: 0.0015 - val_mean_absolute_error: 0.0018\n",
      "Epoch 38/100\n",
      "28/28 [==============================] - 9s 329ms/step - loss: 0.0015 - mean_absolute_error: 0.0022 - val_loss: 0.0015 - val_mean_absolute_error: 0.0018\n",
      "Epoch 39/100\n",
      "28/28 [==============================] - 9s 331ms/step - loss: 0.0015 - mean_absolute_error: 0.0022 - val_loss: 0.0015 - val_mean_absolute_error: 0.0017\n",
      "Epoch 40/100\n",
      "28/28 [==============================] - 9s 332ms/step - loss: 0.0015 - mean_absolute_error: 0.0022 - val_loss: 0.0015 - val_mean_absolute_error: 0.0017\n",
      "Epoch 41/100\n",
      "28/28 [==============================] - 9s 331ms/step - loss: 0.0015 - mean_absolute_error: 0.0022 - val_loss: 0.0015 - val_mean_absolute_error: 0.0017\n",
      "Epoch 42/100\n",
      "28/28 [==============================] - 9s 332ms/step - loss: 0.0015 - mean_absolute_error: 0.0021 - val_loss: 0.0015 - val_mean_absolute_error: 0.0017\n",
      "Epoch 43/100\n",
      "28/28 [==============================] - 9s 330ms/step - loss: 0.0015 - mean_absolute_error: 0.0021 - val_loss: 0.0015 - val_mean_absolute_error: 0.0017\n",
      "Epoch 44/100\n",
      "28/28 [==============================] - 9s 329ms/step - loss: 0.0015 - mean_absolute_error: 0.0021 - val_loss: 0.0015 - val_mean_absolute_error: 0.0017\n",
      "Epoch 45/100\n",
      "28/28 [==============================] - 9s 330ms/step - loss: 0.0015 - mean_absolute_error: 0.0021 - val_loss: 0.0015 - val_mean_absolute_error: 0.0017\n",
      "Epoch 46/100\n",
      "28/28 [==============================] - 9s 335ms/step - loss: 0.0015 - mean_absolute_error: 0.0021 - val_loss: 0.0015 - val_mean_absolute_error: 0.0017\n",
      "Epoch 47/100\n",
      "28/28 [==============================] - 9s 331ms/step - loss: 0.0015 - mean_absolute_error: 0.0021 - val_loss: 0.0015 - val_mean_absolute_error: 0.0017\n",
      "Epoch 48/100\n",
      "28/28 [==============================] - 9s 331ms/step - loss: 0.0015 - mean_absolute_error: 0.0020 - val_loss: 0.0015 - val_mean_absolute_error: 0.0017\n",
      "Epoch 49/100\n",
      "28/28 [==============================] - 9s 329ms/step - loss: 0.0015 - mean_absolute_error: 0.0020 - val_loss: 0.0015 - val_mean_absolute_error: 0.0017\n",
      "Epoch 50/100\n",
      "28/28 [==============================] - 9s 330ms/step - loss: 0.0015 - mean_absolute_error: 0.0020 - val_loss: 0.0015 - val_mean_absolute_error: 0.0017\n",
      "Epoch 51/100\n",
      "28/28 [==============================] - 9s 329ms/step - loss: 0.0015 - mean_absolute_error: 0.0020 - val_loss: 0.0015 - val_mean_absolute_error: 0.0017\n",
      "Epoch 52/100\n",
      "28/28 [==============================] - 9s 330ms/step - loss: 0.0015 - mean_absolute_error: 0.0020 - val_loss: 0.0015 - val_mean_absolute_error: 0.0017\n",
      "Epoch 53/100\n",
      "28/28 [==============================] - 9s 330ms/step - loss: 0.0015 - mean_absolute_error: 0.0020 - val_loss: 0.0015 - val_mean_absolute_error: 0.0017\n",
      "Epoch 54/100\n",
      "28/28 [==============================] - 9s 327ms/step - loss: 0.0015 - mean_absolute_error: 0.0020 - val_loss: 0.0015 - val_mean_absolute_error: 0.0017\n",
      "Epoch 55/100\n",
      "28/28 [==============================] - 9s 327ms/step - loss: 0.0015 - mean_absolute_error: 0.0020 - val_loss: 0.0015 - val_mean_absolute_error: 0.0017\n",
      "Epoch 56/100\n",
      "28/28 [==============================] - 9s 329ms/step - loss: 0.0015 - mean_absolute_error: 0.0020 - val_loss: 0.0015 - val_mean_absolute_error: 0.0017\n",
      "Epoch 57/100\n",
      "28/28 [==============================] - 9s 328ms/step - loss: 0.0015 - mean_absolute_error: 0.0019 - val_loss: 0.0015 - val_mean_absolute_error: 0.0017\n",
      "Epoch 58/100\n",
      "28/28 [==============================] - 9s 331ms/step - loss: 0.0015 - mean_absolute_error: 0.0019 - val_loss: 0.0015 - val_mean_absolute_error: 0.0017\n",
      "Epoch 59/100\n",
      "28/28 [==============================] - 9s 333ms/step - loss: 0.0015 - mean_absolute_error: 0.0019 - val_loss: 0.0015 - val_mean_absolute_error: 0.0017\n",
      "Epoch 60/100\n",
      "28/28 [==============================] - 9s 328ms/step - loss: 0.0015 - mean_absolute_error: 0.0019 - val_loss: 0.0015 - val_mean_absolute_error: 0.0017\n",
      "Epoch 61/100\n",
      "28/28 [==============================] - 9s 329ms/step - loss: 0.0015 - mean_absolute_error: 0.0019 - val_loss: 0.0015 - val_mean_absolute_error: 0.0017\n",
      "Epoch 62/100\n",
      "28/28 [==============================] - 9s 328ms/step - loss: 0.0015 - mean_absolute_error: 0.0019 - val_loss: 0.0015 - val_mean_absolute_error: 0.0017\n",
      "Epoch 63/100\n",
      "28/28 [==============================] - 9s 331ms/step - loss: 0.0015 - mean_absolute_error: 0.0019 - val_loss: 0.0015 - val_mean_absolute_error: 0.0017\n",
      "Epoch 64/100\n",
      "28/28 [==============================] - 9s 335ms/step - loss: 0.0015 - mean_absolute_error: 0.0019 - val_loss: 0.0015 - val_mean_absolute_error: 0.0017\n",
      "Epoch 65/100\n",
      "28/28 [==============================] - 9s 330ms/step - loss: 0.0015 - mean_absolute_error: 0.0019 - val_loss: 0.0015 - val_mean_absolute_error: 0.0017\n",
      "Epoch 66/100\n",
      "28/28 [==============================] - 9s 331ms/step - loss: 0.0015 - mean_absolute_error: 0.0019 - val_loss: 0.0015 - val_mean_absolute_error: 0.0017\n",
      "Epoch 67/100\n",
      "28/28 [==============================] - 9s 332ms/step - loss: 0.0015 - mean_absolute_error: 0.0019 - val_loss: 0.0015 - val_mean_absolute_error: 0.0017\n",
      "Epoch 68/100\n",
      "28/28 [==============================] - 9s 335ms/step - loss: 0.0015 - mean_absolute_error: 0.0019 - val_loss: 0.0015 - val_mean_absolute_error: 0.0017\n",
      "Epoch 69/100\n",
      "28/28 [==============================] - 9s 339ms/step - loss: 0.0015 - mean_absolute_error: 0.0019 - val_loss: 0.0015 - val_mean_absolute_error: 0.0017\n",
      "Epoch 70/100\n",
      "28/28 [==============================] - 9s 340ms/step - loss: 0.0015 - mean_absolute_error: 0.0019 - val_loss: 0.0015 - val_mean_absolute_error: 0.0017\n",
      "Epoch 71/100\n",
      "28/28 [==============================] - 10s 347ms/step - loss: 0.0015 - mean_absolute_error: 0.0019 - val_loss: 0.0015 - val_mean_absolute_error: 0.0017\n",
      "Epoch 72/100\n",
      "28/28 [==============================] - 9s 338ms/step - loss: 0.0015 - mean_absolute_error: 0.0019 - val_loss: 0.0015 - val_mean_absolute_error: 0.0017\n",
      "Epoch 73/100\n",
      "28/28 [==============================] - 9s 336ms/step - loss: 0.0015 - mean_absolute_error: 0.0018 - val_loss: 0.0015 - val_mean_absolute_error: 0.0017\n",
      "Epoch 74/100\n",
      "28/28 [==============================] - 9s 332ms/step - loss: 0.0015 - mean_absolute_error: 0.0018 - val_loss: 0.0015 - val_mean_absolute_error: 0.0017\n",
      "Epoch 75/100\n",
      "28/28 [==============================] - 9s 331ms/step - loss: 0.0015 - mean_absolute_error: 0.0018 - val_loss: 0.0015 - val_mean_absolute_error: 0.0017\n",
      "Epoch 76/100\n",
      "28/28 [==============================] - 9s 333ms/step - loss: 0.0015 - mean_absolute_error: 0.0018 - val_loss: 0.0015 - val_mean_absolute_error: 0.0017\n",
      "Epoch 77/100\n",
      "28/28 [==============================] - 10s 345ms/step - loss: 0.0015 - mean_absolute_error: 0.0018 - val_loss: 0.0015 - val_mean_absolute_error: 0.0017\n",
      "Epoch 78/100\n",
      "28/28 [==============================] - 9s 329ms/step - loss: 0.0015 - mean_absolute_error: 0.0018 - val_loss: 0.0015 - val_mean_absolute_error: 0.0017\n",
      "Epoch 79/100\n",
      "28/28 [==============================] - 9s 326ms/step - loss: 0.0015 - mean_absolute_error: 0.0018 - val_loss: 0.0015 - val_mean_absolute_error: 0.0017\n",
      "Epoch 80/100\n",
      "28/28 [==============================] - 9s 324ms/step - loss: 0.0015 - mean_absolute_error: 0.0018 - val_loss: 0.0015 - val_mean_absolute_error: 0.0017\n",
      "Epoch 81/100\n",
      "28/28 [==============================] - 10s 342ms/step - loss: 0.0015 - mean_absolute_error: 0.0018 - val_loss: 0.0015 - val_mean_absolute_error: 0.0017\n",
      "Epoch 82/100\n",
      "28/28 [==============================] - 9s 329ms/step - loss: 0.0015 - mean_absolute_error: 0.0018 - val_loss: 0.0015 - val_mean_absolute_error: 0.0017\n",
      "Epoch 83/100\n",
      "28/28 [==============================] - 9s 335ms/step - loss: 0.0015 - mean_absolute_error: 0.0018 - val_loss: 0.0015 - val_mean_absolute_error: 0.0017\n",
      "Epoch 84/100\n",
      "28/28 [==============================] - 9s 326ms/step - loss: 0.0015 - mean_absolute_error: 0.0018 - val_loss: 0.0015 - val_mean_absolute_error: 0.0017\n",
      "Epoch 85/100\n",
      "28/28 [==============================] - 9s 325ms/step - loss: 0.0015 - mean_absolute_error: 0.0018 - val_loss: 0.0015 - val_mean_absolute_error: 0.0017\n",
      "Epoch 86/100\n",
      "28/28 [==============================] - 9s 334ms/step - loss: 0.0015 - mean_absolute_error: 0.0018 - val_loss: 0.0015 - val_mean_absolute_error: 0.0017\n",
      "Epoch 87/100\n",
      "28/28 [==============================] - 9s 338ms/step - loss: 0.0015 - mean_absolute_error: 0.0018 - val_loss: 0.0015 - val_mean_absolute_error: 0.0017\n",
      "Epoch 88/100\n",
      "28/28 [==============================] - 9s 337ms/step - loss: 0.0015 - mean_absolute_error: 0.0018 - val_loss: 0.0015 - val_mean_absolute_error: 0.0017\n",
      "Epoch 89/100\n",
      "28/28 [==============================] - 10s 345ms/step - loss: 0.0015 - mean_absolute_error: 0.0018 - val_loss: 0.0015 - val_mean_absolute_error: 0.0017\n",
      "Epoch 90/100\n",
      "28/28 [==============================] - 10s 345ms/step - loss: 0.0015 - mean_absolute_error: 0.0018 - val_loss: 0.0015 - val_mean_absolute_error: 0.0017\n",
      "Epoch 91/100\n",
      "28/28 [==============================] - 9s 338ms/step - loss: 0.0015 - mean_absolute_error: 0.0018 - val_loss: 0.0015 - val_mean_absolute_error: 0.0017\n",
      "Epoch 92/100\n",
      "28/28 [==============================] - 9s 338ms/step - loss: 0.0015 - mean_absolute_error: 0.0018 - val_loss: 0.0015 - val_mean_absolute_error: 0.0016\n",
      "Epoch 93/100\n",
      "28/28 [==============================] - 9s 336ms/step - loss: 0.0015 - mean_absolute_error: 0.0018 - val_loss: 0.0015 - val_mean_absolute_error: 0.0016\n",
      "Epoch 94/100\n",
      "28/28 [==============================] - 10s 341ms/step - loss: 0.0015 - mean_absolute_error: 0.0018 - val_loss: 0.0015 - val_mean_absolute_error: 0.0016\n",
      "Epoch 95/100\n",
      "28/28 [==============================] - 9s 337ms/step - loss: 0.0015 - mean_absolute_error: 0.0018 - val_loss: 0.0015 - val_mean_absolute_error: 0.0016\n",
      "Epoch 96/100\n",
      "28/28 [==============================] - 10s 347ms/step - loss: 0.0015 - mean_absolute_error: 0.0018 - val_loss: 0.0015 - val_mean_absolute_error: 0.0016\n",
      "Epoch 97/100\n",
      "28/28 [==============================] - 9s 335ms/step - loss: 0.0015 - mean_absolute_error: 0.0018 - val_loss: 0.0015 - val_mean_absolute_error: 0.0016\n",
      "Epoch 98/100\n",
      "28/28 [==============================] - 9s 340ms/step - loss: 0.0015 - mean_absolute_error: 0.0018 - val_loss: 0.0015 - val_mean_absolute_error: 0.0016\n",
      "Epoch 99/100\n",
      "28/28 [==============================] - 9s 335ms/step - loss: 0.0015 - mean_absolute_error: 0.0018 - val_loss: 0.0015 - val_mean_absolute_error: 0.0016\n",
      "Epoch 100/100\n",
      "28/28 [==============================] - 10s 343ms/step - loss: 0.0015 - mean_absolute_error: 0.0018 - val_loss: 0.0015 - val_mean_absolute_error: 0.0016\n"
     ]
    }
   ],
   "source": [
    "training_history = cnn_model.fit( x_train, y_train, batch_size = 64, epochs = 20, validation_split = 0.3 )"
   ]
  },
  {
   "cell_type": "code",
   "execution_count": 203,
   "id": "5022960e-6c17-4100-ba21-2549cc2225c5",
   "metadata": {},
   "outputs": [
    {
     "data": {
      "text/plain": [
       "[<matplotlib.lines.Line2D at 0x33f915fd0>]"
      ]
     },
     "execution_count": 203,
     "metadata": {},
     "output_type": "execute_result"
    },
    {
     "data": {
      "image/png": "[encoded data removed]",
      "text/plain": [
       "<Figure size 432x288 with 1 Axes>"
      ]
     },
     "metadata": {
      "needs_background": "light"
     },
     "output_type": "display_data"
    }
   ],
   "source": [
    "plt.plot( training_history.history['loss'] )\n",
    "plt.plot( training_history.history['val_loss'] )\n",
    "#plt.yscale('log')"
   ]
  },
  {
   "cell_type": "code",
   "execution_count": 60,
   "id": "dfe62e1c-5d72-448d-85e1-c2f5f4bb4ba3",
   "metadata": {},
   "outputs": [],
   "source": [
    "k_js_test =  k_js.copy()"
   ]
  },
  {
   "cell_type": "code",
   "execution_count": 204,
   "id": "43a8e652-9e60-4400-84ef-3a1956770154",
   "metadata": {},
   "outputs": [
    {
     "name": "stdout",
     "output_type": "stream",
     "text": [
      "29910\n"
     ]
    }
   ],
   "source": [
    "dat_id = 22\n",
    "id_img = ids_train[dat_id]\n",
    "print(id_img)\n",
    "test_img_name = f'archive-3/training/rgb/000{id_img}.jpg'\n",
    "\n",
    "id_img_test = int(test_img_name.split('.')[0].split('/')[-1])\n",
    "im_test = cv2.imread( test_img_name )/255\n",
    "pxy = generate_coordinates( id_img, k_js, xyz_js[ id_img ] )\n",
    "im_test = generate_labeled_image( im_test, pxy )\n",
    "im_test = cv2.resize( im_test, image_size )\n",
    "im_test_1 = np.array( [im_test] )\n",
    "y_map = y_train[ dat_id ]"
   ]
  },
  {
   "cell_type": "code",
   "execution_count": 232,
   "id": "159960b4-b863-4192-bf5a-948534be0f75",
   "metadata": {},
   "outputs": [
    {
     "name": "stdout",
     "output_type": "stream",
     "text": [
      "1/1 [==============================] - 0s 30ms/step\n"
     ]
    }
   ],
   "source": [
    "map_predicted = cnn_model.predict( im_test_1 )"
   ]
  },
  {
   "cell_type": "code",
   "execution_count": 233,
   "id": "3195d543-8b58-4842-832e-a3ddcd8811e5",
   "metadata": {},
   "outputs": [],
   "source": [
    "#map_predicted[ map_predicted >0.05 ] = 1\n",
    "#map_predicted[ map_predicted <= 0.05 ] = 0"
   ]
  },
  {
   "cell_type": "code",
   "execution_count": 234,
   "id": "2de29fb1-f8db-4631-a70e-be12a5808a2f",
   "metadata": {},
   "outputs": [
    {
     "data": {
      "text/plain": [
       "(1, 128, 128, 21)"
      ]
     },
     "execution_count": 234,
     "metadata": {},
     "output_type": "execute_result"
    }
   ],
   "source": [
    "map_predicted.shape"
   ]
  },
  {
   "cell_type": "code",
   "execution_count": 235,
   "id": "ffcb615f-1363-4ea4-8440-26424df37627",
   "metadata": {},
   "outputs": [
    {
     "data": {
      "text/plain": [
       "0.048897605"
      ]
     },
     "execution_count": 235,
     "metadata": {},
     "output_type": "execute_result"
    }
   ],
   "source": [
    "map_predicted[0,:,:,0].max()"
   ]
  },
  {
   "cell_type": "code",
   "execution_count": 236,
   "id": "dedad2a3-17f1-48c5-9761-70f34cd28591",
   "metadata": {},
   "outputs": [
    {
     "data": {
      "text/plain": [
       "array([[4.8897605e-02, 1.6557339e-03, 1.1285639e-03, ..., 3.5435878e-04,\n",
       "        5.3889240e-04, 7.2540543e-03],\n",
       "       [1.1382530e-03, 3.3086385e-06, 1.0101057e-06, ..., 1.7669331e-07,\n",
       "        6.5678068e-07, 1.1468377e-04],\n",
       "       [8.0961059e-04, 1.3862615e-06, 4.0503733e-07, ..., 4.2074969e-08,\n",
       "        2.0856699e-07, 5.2043721e-05],\n",
       "       ...,\n",
       "       [2.0283749e-03, 1.4674958e-05, 5.8741111e-06, ..., 2.0280920e-08,\n",
       "        7.3714041e-08, 3.0601448e-05],\n",
       "       [2.6581651e-03, 2.6906493e-05, 1.0554110e-05, ..., 6.3252976e-08,\n",
       "        2.3755328e-07, 7.6107259e-05],\n",
       "       [2.2317203e-02, 1.4756019e-03, 7.1409618e-04, ..., 3.1157739e-05,\n",
       "        1.0099119e-04, 3.2835633e-03]], dtype=float32)"
      ]
     },
     "execution_count": 236,
     "metadata": {},
     "output_type": "execute_result"
    }
   ],
   "source": [
    "map_predicted[0,:,:,0]"
   ]
  },
  {
   "cell_type": "code",
   "execution_count": 228,
   "id": "100d64f1-4e49-4ce5-a467-77d6bd794ba0",
   "metadata": {},
   "outputs": [
    {
     "data": {
      "text/plain": [
       "(array([  0,   0,   0, ..., 127, 127, 127]),\n",
       " array([  0,   1,   2, ..., 125, 126, 127]))"
      ]
     },
     "execution_count": 228,
     "metadata": {},
     "output_type": "execute_result"
    }
   ],
   "source": [
    "np.where( map_predicted[0,:,:,0] == map_predicted[0,:,:,0].max() )"
   ]
  },
  {
   "cell_type": "code",
   "execution_count": 229,
   "id": "8b12ef24-d562-402f-8df1-5f1feb9dbae1",
   "metadata": {},
   "outputs": [
    {
     "data": {
      "text/plain": [
       "0"
      ]
     },
     "execution_count": 229,
     "metadata": {},
     "output_type": "execute_result"
    }
   ],
   "source": [
    "np.argmax( map_predicted[0,:,:,0],  ) "
   ]
  },
  {
   "cell_type": "code",
   "execution_count": 237,
   "id": "7fec150e-cddf-4098-af59-7da77c19110b",
   "metadata": {},
   "outputs": [
    {
     "name": "stderr",
     "output_type": "stream",
     "text": [
      "Clipping input data to the valid range for imshow with RGB data ([0..1] for floats or [0..255] for integers).\n"
     ]
    },
    {
     "data": {
      "text/plain": [
       "<matplotlib.image.AxesImage at 0x143c94790>"
      ]
     },
     "execution_count": 237,
     "metadata": {},
     "output_type": "execute_result"
    },
    {
     "data": {
      "image/png": "[encoded data removed]",
      "text/plain": [
       "<Figure size 720x432 with 3 Axes>"
      ]
     },
     "metadata": {
      "needs_background": "light"
     },
     "output_type": "display_data"
    }
   ],
   "source": [
    "fig_1 = plt.figure( figsize = (10,6) )\n",
    "ax_i = fig_1.add_subplot( 1, 3, 1 )\n",
    "ax_i.imshow( im_test_1[0] )\n",
    "ax_i = fig_1.add_subplot( 1, 3, 2 )\n",
    "ax_i.imshow( np.sum(y_map, axis = 2).clip(0,1), cmap = 'gray' )\n",
    "ax_i = fig_1.add_subplot( 1, 3, 3 )\n",
    "ax_i.imshow( np.sum( map_predicted[0], axis = 2 ), cmap = 'gray' )\n",
    "#ax_i.imshow( np.sum( cv2.GaussianBlur( map_predicted[0]/np.max(map_predicted[0], axis = (0,1) ),\n",
    "#                                       (9,9), sigmaX = 2, sigmaY = 2 ), axis = 2), cmap = 'gray' )"
   ]
  },
  {
   "cell_type": "code",
   "execution_count": 231,
   "id": "4549d5d7-9495-4c8c-8cfc-d753ba185fdf",
   "metadata": {},
   "outputs": [
    {
     "data": {
      "image/png": "[encoded data removed]",
      "text/plain": [
       "<Figure size 1008x432 with 21 Axes>"
      ]
     },
     "metadata": {
      "needs_background": "light"
     },
     "output_type": "display_data"
    }
   ],
   "source": [
    "fig_1 = plt.figure( figsize = (14,6) )\n",
    "for i in range(21):\n",
    "    ax_i = fig_1.add_subplot( 3, 7, i+1 )\n",
    "    ax_i.imshow( map_predicted[0,:,:,i], cmap = 'gray' )\n",
    "    ax_i.axis('off')\n",
    "fig_1.subplots_adjust(wspace=0.1, hspace=0.01)"
   ]
  },
  {
   "cell_type": "code",
   "execution_count": 178,
   "id": "223c91e3-5680-4c24-8dd7-6abd34756d37",
   "metadata": {},
   "outputs": [
    {
     "data": {
      "image/png": "[encoded data removed]",
      "text/plain": [
       "<Figure size 1008x432 with 21 Axes>"
      ]
     },
     "metadata": {
      "needs_background": "light"
     },
     "output_type": "display_data"
    }
   ],
   "source": [
    "fig_1 = plt.figure( figsize = (14,6) )\n",
    "for i in range(21):\n",
    "    ax_i = fig_1.add_subplot( 3, 7, i+1 )\n",
    "    ax_i.imshow( y_train[0,:,:,i], cmap = 'gray' )\n",
    "    ax_i.axis('off')\n",
    "fig_1.subplots_adjust(wspace=0.1, hspace=0.01)"
   ]
  },
  {
   "cell_type": "code",
   "execution_count": 508,
   "id": "fbbd612f-445b-4e39-8279-4457ac276504",
   "metadata": {},
   "outputs": [
    {
     "data": {
      "image/png": "[encoded data removed]",
      "text/plain": [
       "<Figure size 432x288 with 1 Axes>"
      ]
     },
     "metadata": {
      "needs_background": "light"
     },
     "output_type": "display_data"
    }
   ],
   "source": [
    "plt.hist(np.sum(y_map, axis = 2).reshape(-1,1))\n",
    "plt.yscale('log')"
   ]
  },
  {
   "cell_type": "code",
   "execution_count": null,
   "id": "d4bb7d6f-8c0a-488d-8c7e-68352e454580",
   "metadata": {},
   "outputs": [],
   "source": []
  },
  {
   "cell_type": "code",
   "execution_count": null,
   "id": "7ec7f6f6-3e5e-4893-889a-f22f10569700",
   "metadata": {},
   "outputs": [],
   "source": []
  }
 ],
 "metadata": {
  "kernelspec": {
   "display_name": "Python 3 (ipykernel)",
   "language": "python",
   "name": "python3"
  },
  "language_info": {
   "codemirror_mode": {
    "name": "ipython",
    "version": 3
   },
   "file_extension": ".py",
   "mimetype": "text/x-python",
   "name": "python",
   "nbconvert_exporter": "python",
   "pygments_lexer": "ipython3",
   "version": "3.8.13"
  }
 },
 "nbformat": 4,
 "nbformat_minor": 5
}
